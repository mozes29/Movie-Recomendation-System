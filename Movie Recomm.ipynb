{
 "cells": [
  {
   "cell_type": "markdown",
   "metadata": {},
   "source": [
    "## Importing Basic Libraries"
   ]
  },
  {
   "cell_type": "code",
   "execution_count": 1,
   "metadata": {
    "scrolled": true
   },
   "outputs": [],
   "source": [
    "#  import the basic Libraries\n",
    "import numpy as np\n",
    "import pandas as pd\n",
    "\n",
    "# for data visualization\n",
    "import matplotlib.pyplot as plt\n",
    "import seaborn as sns\n",
    "\n",
    "# for jupyter notebook widgets\n",
    "import ipywidgets as widgets\n",
    "from ipywidgets import interact\n",
    "from ipywidgets import interact_manual\n",
    "\n",
    "# for Interactive Shells\n",
    "from IPython.display import display\n",
    "\n",
    "# setting up the chart size and background\n",
    "plt.rcParams['figure.figsize'] = (16, 8)\n",
    "plt.style.use('fivethirtyeight')"
   ]
  },
  {
   "cell_type": "markdown",
   "metadata": {},
   "source": [
    "## Read the Dataset"
   ]
  },
  {
   "cell_type": "code",
   "execution_count": 2,
   "metadata": {
    "scrolled": true
   },
   "outputs": [],
   "source": [
    "#  read the dataset\n",
    "data = pd.read_csv('movie_metadata.csv')"
   ]
  },
  {
   "cell_type": "code",
   "execution_count": 3,
   "metadata": {},
   "outputs": [
    {
     "name": "stdout",
     "output_type": "stream",
     "text": [
      "(5043, 28)\n"
     ]
    }
   ],
   "source": [
    "#  check the shape\n",
    "print(data.shape)"
   ]
  },
  {
   "cell_type": "code",
   "execution_count": 4,
   "metadata": {},
   "outputs": [
    {
     "name": "stdout",
     "output_type": "stream",
     "text": [
      "<class 'pandas.core.frame.DataFrame'>\n",
      "RangeIndex: 5043 entries, 0 to 5042\n",
      "Data columns (total 28 columns):\n",
      " #   Column                     Non-Null Count  Dtype  \n",
      "---  ------                     --------------  -----  \n",
      " 0   color                      5024 non-null   object \n",
      " 1   director_name              4939 non-null   object \n",
      " 2   num_critic_for_reviews     4993 non-null   float64\n",
      " 3   duration                   5028 non-null   float64\n",
      " 4   director_facebook_likes    4939 non-null   float64\n",
      " 5   actor_3_facebook_likes     5020 non-null   float64\n",
      " 6   actor_2_name               5030 non-null   object \n",
      " 7   actor_1_facebook_likes     5036 non-null   float64\n",
      " 8   gross                      4159 non-null   float64\n",
      " 9   genres                     5043 non-null   object \n",
      " 10  actor_1_name               5036 non-null   object \n",
      " 11  movie_title                5043 non-null   object \n",
      " 12  num_voted_users            5043 non-null   int64  \n",
      " 13  cast_total_facebook_likes  5043 non-null   int64  \n",
      " 14  actor_3_name               5020 non-null   object \n",
      " 15  facenumber_in_poster       5030 non-null   float64\n",
      " 16  plot_keywords              4890 non-null   object \n",
      " 17  movie_imdb_link            5043 non-null   object \n",
      " 18  num_user_for_reviews       5022 non-null   float64\n",
      " 19  language                   5031 non-null   object \n",
      " 20  country                    5038 non-null   object \n",
      " 21  content_rating             4740 non-null   object \n",
      " 22  budget                     4551 non-null   float64\n",
      " 23  title_year                 4935 non-null   float64\n",
      " 24  actor_2_facebook_likes     5030 non-null   float64\n",
      " 25  imdb_score                 5043 non-null   float64\n",
      " 26  aspect_ratio               4714 non-null   float64\n",
      " 27  movie_facebook_likes       5043 non-null   int64  \n",
      "dtypes: float64(13), int64(3), object(12)\n",
      "memory usage: 1.1+ MB\n"
     ]
    }
   ],
   "source": [
    "#  check the column wise info\n",
    "\n",
    "data.info()"
   ]
  },
  {
   "cell_type": "code",
   "execution_count": 5,
   "metadata": {},
   "outputs": [
    {
     "data": {
      "text/plain": [
       "Index(['director_name', 'num_critic_for_reviews', 'duration', 'actor_2_name',\n",
       "       'gross', 'genres', 'actor_1_name', 'movie_title', 'num_voted_users',\n",
       "       'actor_3_name', 'num_user_for_reviews', 'language', 'budget',\n",
       "       'title_year', 'imdb_score', 'movie_facebook_likes'],\n",
       "      dtype='object')"
      ]
     },
     "execution_count": 5,
     "metadata": {},
     "output_type": "execute_result"
    }
   ],
   "source": [
    "#  remove unnecassary columns from the dataset\n",
    "\n",
    "# Use the 'drop()' function to drop the unnecessary columns\n",
    "\n",
    "data = data.drop(['color', \n",
    "                      'director_facebook_likes', \n",
    "                      'actor_3_facebook_likes', \n",
    "                      'actor_1_facebook_likes', \n",
    "                      'cast_total_facebook_likes', \n",
    "                      'actor_2_facebook_likes',  \n",
    "                      'facenumber_in_poster', \n",
    "                      'content_rating', \n",
    "                      'country', \n",
    "                      'movie_imdb_link', \n",
    "                      'aspect_ratio',\n",
    "                      'plot_keywords',\n",
    "                      ], \n",
    "                       axis = 1)\n",
    "data.columns"
   ]
  },
  {
   "cell_type": "markdown",
   "metadata": {},
   "source": [
    "## Missing Values Imputation"
   ]
  },
  {
   "cell_type": "code",
   "execution_count": 6,
   "metadata": {},
   "outputs": [
    {
     "data": {
      "text/plain": [
       "director_name              2.06\n",
       "num_critic_for_reviews     0.99\n",
       "duration                   0.30\n",
       "actor_2_name               0.26\n",
       "gross                     17.53\n",
       "genres                     0.00\n",
       "actor_1_name               0.14\n",
       "movie_title                0.00\n",
       "num_voted_users            0.00\n",
       "actor_3_name               0.46\n",
       "num_user_for_reviews       0.42\n",
       "language                   0.24\n",
       "budget                     9.76\n",
       "title_year                 2.14\n",
       "imdb_score                 0.00\n",
       "movie_facebook_likes       0.00\n",
       "dtype: float64"
      ]
     },
     "execution_count": 6,
     "metadata": {},
     "output_type": "execute_result"
    }
   ],
   "source": [
    "#  check the rows having high percentage of missing values in the dataset\n",
    "\n",
    "round(100*(data.isnull().sum()/len(data.index)), 2)"
   ]
  },
  {
   "cell_type": "code",
   "execution_count": 7,
   "metadata": {},
   "outputs": [
    {
     "data": {
      "text/plain": [
       "director_name              0\n",
       "num_critic_for_reviews     1\n",
       "duration                   1\n",
       "actor_2_name               5\n",
       "gross                      0\n",
       "genres                     0\n",
       "actor_1_name               3\n",
       "movie_title                0\n",
       "num_voted_users            0\n",
       "actor_3_name              10\n",
       "num_user_for_reviews       0\n",
       "language                   3\n",
       "budget                     0\n",
       "title_year                 0\n",
       "imdb_score                 0\n",
       "movie_facebook_likes       0\n",
       "dtype: int64"
      ]
     },
     "execution_count": 7,
     "metadata": {},
     "output_type": "execute_result"
    }
   ],
   "source": [
    "# Since 'gross' and 'budget' columns have large number of NaN values, drop all the rows with NaNs at this column using the\n",
    "# 'isnan' function of NumPy alongwith a negation '~'\n",
    "\n",
    "data = data[~np.isnan(data['gross'])]\n",
    "data = data[~np.isnan(data['budget'])]\n",
    "\n",
    "# we have to remove all the rows where the leading actor's name is missing.\n",
    "#data = data[~np.isnan(data['actor_1_name'])]\n",
    "\n",
    "# Now lets again check the Missing Values column wise\n",
    "data.isnull().sum()"
   ]
  },
  {
   "cell_type": "code",
   "execution_count": 8,
   "metadata": {},
   "outputs": [
    {
     "data": {
      "text/plain": [
       "director_name             0\n",
       "num_critic_for_reviews    1\n",
       "duration                  1\n",
       "actor_2_name              2\n",
       "gross                     0\n",
       "genres                    0\n",
       "actor_1_name              0\n",
       "movie_title               0\n",
       "num_voted_users           0\n",
       "actor_3_name              7\n",
       "num_user_for_reviews      0\n",
       "language                  3\n",
       "budget                    0\n",
       "title_year                0\n",
       "imdb_score                0\n",
       "movie_facebook_likes      0\n",
       "dtype: int64"
      ]
     },
     "execution_count": 8,
     "metadata": {},
     "output_type": "execute_result"
    }
   ],
   "source": [
    "# The rows for which the sum of Null is less than two are retained\n",
    "\n",
    "data = data[data.isnull().sum(axis=1) <= 2]\n",
    "data.isnull().sum()"
   ]
  },
  {
   "cell_type": "code",
   "execution_count": 9,
   "metadata": {},
   "outputs": [
    {
     "data": {
      "text/plain": [
       "0"
      ]
     },
     "execution_count": 9,
     "metadata": {},
     "output_type": "execute_result"
    }
   ],
   "source": [
    "#  impute the missing values\n",
    "\n",
    "# using mean for numerical columns\n",
    "data['num_critic_for_reviews'].fillna(data['num_critic_for_reviews'].mean(), inplace = True)\n",
    "data['duration'].fillna(data['duration'].mean(), inplace = True)\n",
    "\n",
    "# using mode for categorical column\n",
    "data['language'].fillna(data['language'].mode()[0], inplace = True)\n",
    "\n",
    "# As we know that We cannot use statistical values for imputing the missing values of actor names, so we will replace the \n",
    "# actor names with \"Unknown Actor\"\n",
    "\n",
    "data['actor_2_name'].fillna('Unknown Actor', inplace = True)\n",
    "data['actor_3_name'].fillna('Unknown Actor', inplace = True)\n",
    "\n",
    "# as we imputed all the missing values lets check the no. of total missing values in the dataset\n",
    "data.isnull().sum().sum()"
   ]
  },
  {
   "cell_type": "markdown",
   "metadata": {},
   "source": [
    "## Feature Engineering"
   ]
  },
  {
   "cell_type": "code",
   "execution_count": 10,
   "metadata": {},
   "outputs": [],
   "source": [
    "#  convert the gross and budget from $ to Million $ to make our analysis easier\n",
    "\n",
    "data['gross'] = data['gross']/1000000\n",
    "data['budget'] = data['budget']/1000000"
   ]
  },
  {
   "cell_type": "code",
   "execution_count": 11,
   "metadata": {},
   "outputs": [
    {
     "data": {
      "text/html": [
       "<div>\n",
       "<style scoped>\n",
       "    .dataframe tbody tr th:only-of-type {\n",
       "        vertical-align: middle;\n",
       "    }\n",
       "\n",
       "    .dataframe tbody tr th {\n",
       "        vertical-align: top;\n",
       "    }\n",
       "\n",
       "    .dataframe thead th {\n",
       "        text-align: right;\n",
       "    }\n",
       "</style>\n",
       "<table border=\"1\" class=\"dataframe\">\n",
       "  <thead>\n",
       "    <tr style=\"text-align: right;\">\n",
       "      <th></th>\n",
       "      <th>Profit</th>\n",
       "      <th>movie_title</th>\n",
       "    </tr>\n",
       "  </thead>\n",
       "  <tbody>\n",
       "    <tr>\n",
       "      <th>0</th>\n",
       "      <td>523.505847</td>\n",
       "      <td>Avatar</td>\n",
       "    </tr>\n",
       "    <tr>\n",
       "      <th>29</th>\n",
       "      <td>502.177271</td>\n",
       "      <td>Jurassic World</td>\n",
       "    </tr>\n",
       "    <tr>\n",
       "      <th>26</th>\n",
       "      <td>458.672302</td>\n",
       "      <td>Titanic</td>\n",
       "    </tr>\n",
       "    <tr>\n",
       "      <th>3024</th>\n",
       "      <td>449.935665</td>\n",
       "      <td>Star Wars: Episode IV - A New Hope</td>\n",
       "    </tr>\n",
       "    <tr>\n",
       "      <th>3080</th>\n",
       "      <td>424.449459</td>\n",
       "      <td>E.T. the Extra-Terrestrial</td>\n",
       "    </tr>\n",
       "    <tr>\n",
       "      <th>794</th>\n",
       "      <td>403.279547</td>\n",
       "      <td>The Avengers</td>\n",
       "    </tr>\n",
       "    <tr>\n",
       "      <th>17</th>\n",
       "      <td>403.279547</td>\n",
       "      <td>The Avengers</td>\n",
       "    </tr>\n",
       "    <tr>\n",
       "      <th>509</th>\n",
       "      <td>377.783777</td>\n",
       "      <td>The Lion King</td>\n",
       "    </tr>\n",
       "    <tr>\n",
       "      <th>240</th>\n",
       "      <td>359.544677</td>\n",
       "      <td>Star Wars: Episode I - The Phantom Menace</td>\n",
       "    </tr>\n",
       "    <tr>\n",
       "      <th>66</th>\n",
       "      <td>348.316061</td>\n",
       "      <td>The Dark Knight</td>\n",
       "    </tr>\n",
       "  </tbody>\n",
       "</table>\n",
       "</div>"
      ],
      "text/plain": [
       "          Profit                                 movie_title\n",
       "0     523.505847                                     Avatar \n",
       "29    502.177271                             Jurassic World \n",
       "26    458.672302                                    Titanic \n",
       "3024  449.935665         Star Wars: Episode IV - A New Hope \n",
       "3080  424.449459                 E.T. the Extra-Terrestrial \n",
       "794   403.279547                               The Avengers \n",
       "17    403.279547                               The Avengers \n",
       "509   377.783777                              The Lion King \n",
       "240   359.544677  Star Wars: Episode I - The Phantom Menace \n",
       "66    348.316061                            The Dark Knight "
      ]
     },
     "execution_count": 11,
     "metadata": {},
     "output_type": "execute_result"
    }
   ],
   "source": [
    "#  create a Profit column using the Budget and Gross\n",
    "\n",
    "data['Profit'] = data['gross'] - data['budget']\n",
    "\n",
    "# lets also check the name of Top 10 Profitable Movies\n",
    "data[['Profit','movie_title']].sort_values(by = 'Profit', ascending  = False).head(10)"
   ]
  },
  {
   "cell_type": "code",
   "execution_count": 12,
   "metadata": {},
   "outputs": [
    {
     "name": "stdout",
     "output_type": "stream",
     "text": [
      "No. of Rows Before Removing Duplicates:  3888\n",
      "No. of Rows After Removing Duplicates:  3853\n"
     ]
    }
   ],
   "source": [
    "# By looking at the above result we can easily analyze that there are some duplicate\n",
    "\n",
    "#  print the no. of rows before removing Duplicates\n",
    "print(\"No. of Rows Before Removing Duplicates: \",data.shape[0])\n",
    "\n",
    "# so lets remove all the duplicates from the data\n",
    "data.drop_duplicates(subset = None, keep = 'first', inplace = True)\n",
    "\n",
    "#  print the no. of rows after removing Duplicates\n",
    "print(\"No. of Rows After Removing Duplicates: \",data.shape[0])"
   ]
  },
  {
   "cell_type": "code",
   "execution_count": 13,
   "metadata": {},
   "outputs": [
    {
     "data": {
      "text/html": [
       "<div>\n",
       "<style scoped>\n",
       "    .dataframe tbody tr th:only-of-type {\n",
       "        vertical-align: middle;\n",
       "    }\n",
       "\n",
       "    .dataframe tbody tr th {\n",
       "        vertical-align: top;\n",
       "    }\n",
       "\n",
       "    .dataframe thead th {\n",
       "        text-align: right;\n",
       "    }\n",
       "</style>\n",
       "<table border=\"1\" class=\"dataframe\">\n",
       "  <thead>\n",
       "    <tr style=\"text-align: right;\">\n",
       "      <th></th>\n",
       "      <th>movie_title</th>\n",
       "      <th>Profit</th>\n",
       "    </tr>\n",
       "  </thead>\n",
       "  <tbody>\n",
       "    <tr>\n",
       "      <th>0</th>\n",
       "      <td>Avatar</td>\n",
       "      <td>523.505847</td>\n",
       "    </tr>\n",
       "    <tr>\n",
       "      <th>29</th>\n",
       "      <td>Jurassic World</td>\n",
       "      <td>502.177271</td>\n",
       "    </tr>\n",
       "    <tr>\n",
       "      <th>26</th>\n",
       "      <td>Titanic</td>\n",
       "      <td>458.672302</td>\n",
       "    </tr>\n",
       "    <tr>\n",
       "      <th>3024</th>\n",
       "      <td>Star Wars: Episode IV - A New Hope</td>\n",
       "      <td>449.935665</td>\n",
       "    </tr>\n",
       "    <tr>\n",
       "      <th>3080</th>\n",
       "      <td>E.T. the Extra-Terrestrial</td>\n",
       "      <td>424.449459</td>\n",
       "    </tr>\n",
       "    <tr>\n",
       "      <th>17</th>\n",
       "      <td>The Avengers</td>\n",
       "      <td>403.279547</td>\n",
       "    </tr>\n",
       "    <tr>\n",
       "      <th>509</th>\n",
       "      <td>The Lion King</td>\n",
       "      <td>377.783777</td>\n",
       "    </tr>\n",
       "    <tr>\n",
       "      <th>240</th>\n",
       "      <td>Star Wars: Episode I - The Phantom Menace</td>\n",
       "      <td>359.544677</td>\n",
       "    </tr>\n",
       "    <tr>\n",
       "      <th>66</th>\n",
       "      <td>The Dark Knight</td>\n",
       "      <td>348.316061</td>\n",
       "    </tr>\n",
       "    <tr>\n",
       "      <th>439</th>\n",
       "      <td>The Hunger Games</td>\n",
       "      <td>329.999255</td>\n",
       "    </tr>\n",
       "  </tbody>\n",
       "</table>\n",
       "</div>"
      ],
      "text/plain": [
       "                                     movie_title      Profit\n",
       "0                                        Avatar   523.505847\n",
       "29                               Jurassic World   502.177271\n",
       "26                                      Titanic   458.672302\n",
       "3024         Star Wars: Episode IV - A New Hope   449.935665\n",
       "3080                 E.T. the Extra-Terrestrial   424.449459\n",
       "17                                 The Avengers   403.279547\n",
       "509                               The Lion King   377.783777\n",
       "240   Star Wars: Episode I - The Phantom Menace   359.544677\n",
       "66                              The Dark Knight   348.316061\n",
       "439                            The Hunger Games   329.999255"
      ]
     },
     "execution_count": 13,
     "metadata": {},
     "output_type": "execute_result"
    }
   ],
   "source": [
    "#  check the Top 10 Profitable Movies Again\n",
    "\n",
    "data[['movie_title','Profit']].sort_values(by = 'Profit', ascending  = False).head(10)"
   ]
  },
  {
   "cell_type": "code",
   "execution_count": 14,
   "metadata": {},
   "outputs": [
    {
     "data": {
      "text/plain": [
       "English       3673\n",
       "French          37\n",
       "Spanish         26\n",
       "Mandarin        14\n",
       "German          13\n",
       "Japanese        12\n",
       "Hindi           10\n",
       "Cantonese        8\n",
       "Italian          7\n",
       "Portuguese       5\n",
       "Korean           5\n",
       "Norwegian        4\n",
       "Dutch            3\n",
       "Persian          3\n",
       "Thai             3\n",
       "Hebrew           3\n",
       "Danish           3\n",
       "Aboriginal       2\n",
       "Dari             2\n",
       "Indonesian       2\n",
       "Russian          1\n",
       "Romanian         1\n",
       "Vietnamese       1\n",
       "Arabic           1\n",
       "Dzongkha         1\n",
       "Zulu             1\n",
       "None             1\n",
       "Aramaic          1\n",
       "Czech            1\n",
       "Telugu           1\n",
       "Icelandic        1\n",
       "Filipino         1\n",
       "Hungarian        1\n",
       "Maya             1\n",
       "Bosnian          1\n",
       "Mongolian        1\n",
       "Kazakh           1\n",
       "Swedish          1\n",
       "Name: language, dtype: int64"
      ]
     },
     "execution_count": 14,
     "metadata": {},
     "output_type": "execute_result"
    }
   ],
   "source": [
    "#  check the values in the language column\n",
    "data['language'].value_counts()"
   ]
  },
  {
   "cell_type": "code",
   "execution_count": 15,
   "metadata": {},
   "outputs": [
    {
     "data": {
      "text/plain": [
       "English    3673\n",
       "Foreign     180\n",
       "Name: language, dtype: int64"
      ]
     },
     "execution_count": 15,
     "metadata": {},
     "output_type": "execute_result"
    }
   ],
   "source": [
    "\n",
    "\n",
    "# keep only two languages that is English and Foreign\n",
    "def language(x):\n",
    "    if x == 'English':\n",
    "        return 'English'\n",
    "    else:\n",
    "        return 'Foreign'\n",
    "\n",
    "#  apply the function on the language column\n",
    "data['language'] = data['language'].apply(language)\n",
    "\n",
    "#  check the values again\n",
    "data['language'].value_counts()"
   ]
  },
  {
   "cell_type": "code",
   "execution_count": 16,
   "metadata": {},
   "outputs": [
    {
     "data": {
      "text/plain": [
       "Short    2936\n",
       "Long      917\n",
       "Name: duration, dtype: int64"
      ]
     },
     "execution_count": 16,
     "metadata": {},
     "output_type": "execute_result"
    }
   ],
   "source": [
    "\n",
    "#  categorize the movies in two part i.e., short and long.\n",
    "\n",
    "# lets define a function for categorizing Duration of Movies\n",
    "def duration(x):\n",
    "    if x <= 120:\n",
    "        return 'Short'\n",
    "    else:\n",
    "        return 'Long'\n",
    "    \n",
    "# lets apply this function on the duration column\n",
    "data['duration'] = data['duration'].apply(duration)\n",
    "\n",
    "# lets check the values of Duration column\n",
    "data['duration'].value_counts()"
   ]
  },
  {
   "cell_type": "code",
   "execution_count": 17,
   "metadata": {},
   "outputs": [
    {
     "data": {
      "text/plain": [
       "Drama                                     153\n",
       "Comedy|Drama|Romance                      151\n",
       "Comedy|Drama                              147\n",
       "Comedy                                    145\n",
       "Comedy|Romance                            135\n",
       "                                         ... \n",
       "Action|Crime|Drama|Thriller|War             1\n",
       "Adventure|Comedy|Family|Musical             1\n",
       "Action|Adventure|Family|Fantasy|Sci-Fi      1\n",
       "Action|Drama|Mystery|Thriller|War           1\n",
       "Comedy|Crime|Horror                         1\n",
       "Name: genres, Length: 762, dtype: int64"
      ]
     },
     "execution_count": 17,
     "metadata": {},
     "output_type": "execute_result"
    }
   ],
   "source": [
    "#  check the values in the Genres Column\n",
    "\n",
    "data['genres'].value_counts()"
   ]
  },
  {
   "cell_type": "code",
   "execution_count": 18,
   "metadata": {},
   "outputs": [
    {
     "data": {
      "text/plain": [
       "['Action', 'Adventure', 'Fantasy', 'Sci-Fi']"
      ]
     },
     "execution_count": 18,
     "metadata": {},
     "output_type": "execute_result"
    }
   ],
   "source": [
    "data['genres'].str.split('|')[0]"
   ]
  },
  {
   "cell_type": "code",
   "execution_count": 19,
   "metadata": {},
   "outputs": [
    {
     "data": {
      "text/html": [
       "<div>\n",
       "<style scoped>\n",
       "    .dataframe tbody tr th:only-of-type {\n",
       "        vertical-align: middle;\n",
       "    }\n",
       "\n",
       "    .dataframe tbody tr th {\n",
       "        vertical-align: top;\n",
       "    }\n",
       "\n",
       "    .dataframe thead th {\n",
       "        text-align: right;\n",
       "    }\n",
       "</style>\n",
       "<table border=\"1\" class=\"dataframe\">\n",
       "  <thead>\n",
       "    <tr style=\"text-align: right;\">\n",
       "      <th></th>\n",
       "      <th>genres</th>\n",
       "      <th>Genre1</th>\n",
       "      <th>Genre2</th>\n",
       "      <th>Genre3</th>\n",
       "      <th>Genre4</th>\n",
       "    </tr>\n",
       "  </thead>\n",
       "  <tbody>\n",
       "    <tr>\n",
       "      <th>0</th>\n",
       "      <td>Action|Adventure|Fantasy|Sci-Fi</td>\n",
       "      <td>Action</td>\n",
       "      <td>Adventure</td>\n",
       "      <td>Fantasy</td>\n",
       "      <td>Sci-Fi</td>\n",
       "    </tr>\n",
       "    <tr>\n",
       "      <th>1</th>\n",
       "      <td>Action|Adventure|Fantasy</td>\n",
       "      <td>Action</td>\n",
       "      <td>Adventure</td>\n",
       "      <td>Fantasy</td>\n",
       "      <td>Action</td>\n",
       "    </tr>\n",
       "    <tr>\n",
       "      <th>2</th>\n",
       "      <td>Action|Adventure|Thriller</td>\n",
       "      <td>Action</td>\n",
       "      <td>Adventure</td>\n",
       "      <td>Thriller</td>\n",
       "      <td>Action</td>\n",
       "    </tr>\n",
       "    <tr>\n",
       "      <th>3</th>\n",
       "      <td>Action|Thriller</td>\n",
       "      <td>Action</td>\n",
       "      <td>Thriller</td>\n",
       "      <td>Action</td>\n",
       "      <td>Action</td>\n",
       "    </tr>\n",
       "    <tr>\n",
       "      <th>5</th>\n",
       "      <td>Action|Adventure|Sci-Fi</td>\n",
       "      <td>Action</td>\n",
       "      <td>Adventure</td>\n",
       "      <td>Sci-Fi</td>\n",
       "      <td>Action</td>\n",
       "    </tr>\n",
       "  </tbody>\n",
       "</table>\n",
       "</div>"
      ],
      "text/plain": [
       "                            genres  Genre1     Genre2    Genre3  Genre4\n",
       "0  Action|Adventure|Fantasy|Sci-Fi  Action  Adventure   Fantasy  Sci-Fi\n",
       "1         Action|Adventure|Fantasy  Action  Adventure   Fantasy  Action\n",
       "2        Action|Adventure|Thriller  Action  Adventure  Thriller  Action\n",
       "3                  Action|Thriller  Action   Thriller    Action  Action\n",
       "5          Action|Adventure|Sci-Fi  Action  Adventure    Sci-Fi  Action"
      ]
     },
     "execution_count": 19,
     "metadata": {},
     "output_type": "execute_result"
    }
   ],
   "source": [
    "\n",
    "#  movie can have so many genres so lets keep four genres\n",
    "\n",
    "data['Moviegenres'] = data['genres'].str.split('|')\n",
    "data['Genre1'] = data['Moviegenres'].apply(lambda x: x[0])\n",
    "\n",
    "# Some of the movies have only one genre. In such cases, assign the same genre to 'genre_2' as well\n",
    "data['Genre2'] = data['Moviegenres'].apply(lambda x: x[1] if len(x) > 1 else x[0])\n",
    "data['Genre3'] = data['Moviegenres'].apply(lambda x: x[2] if len(x) > 2 else x[0])\n",
    "data['Genre4'] = data['Moviegenres'].apply(lambda x: x[3] if len(x) > 3 else x[0])\n",
    "\n",
    "# lets check the head of the  data\n",
    "data[['genres','Genre1','Genre2','Genre3','Genre4']].head(5)"
   ]
  },
  {
   "cell_type": "markdown",
   "metadata": {},
   "source": [
    "## Data Visualization"
   ]
  },
  {
   "cell_type": "code",
   "execution_count": 20,
   "metadata": {},
   "outputs": [
    {
     "name": "stdout",
     "output_type": "stream",
     "text": [
      "   index                          movie_title  Social_Media_Popularity\n",
      "0     10  Batman v Superman: Dawn of Justice               1599.794424\n",
      "1    150                        Ghostbusters               1076.336425\n",
      "2   1582                        Ghostbusters               1075.827482\n",
      "3     96                        Interstellar               1024.560802\n",
      "4   3015               10 Days in a Madhouse                828.025478\n",
      "5    945                      Into the Woods                692.937200\n",
      "6     73                       Suicide Squad                652.816996\n",
      "7   1190                Fifty Shades of Grey                624.306881\n",
      "8    108                            Warcraft                622.790277\n",
      "9     92        Independence Day: Resurgence                599.274128\n"
     ]
    },
    {
     "name": "stderr",
     "output_type": "stream",
     "text": [
      "c:\\users\\moses\\appdata\\local\\programs\\python\\python39\\lib\\site-packages\\seaborn\\_decorators.py:36: FutureWarning: Pass the following variables as keyword args: x, y. From version 0.12, the only valid positional argument will be `data`, and passing other arguments without an explicit keyword will result in an error or misinterpretation.\n",
      "  warnings.warn(\n"
     ]
    },
    {
     "data": {
      "image/png": "[encoded data removed]",
      "text/plain": [
       "<Figure size 1152x576 with 1 Axes>"
      ]
     },
     "metadata": {},
     "output_type": "display_data"
    }
   ],
   "source": [
    "# calculate the Social Media Popularity of a Movie \n",
    "\n",
    "# to calculate popularity of a movie, we can aggregate No. of voted users, No. of Users for Reviews, and Facebook Likes.\n",
    "data['Social_Media_Popularity'] = (data['num_user_for_reviews']/\n",
    "                                   data['num_voted_users'])*data['movie_facebook_likes']\n",
    "\n",
    "# lets also check the Top 10 Most Popular Movies on Social Media\n",
    "x = data[['movie_title','Social_Media_Popularity']].sort_values(by = 'Social_Media_Popularity',\n",
    "                                                                ascending = False).head(10).reset_index()\n",
    "print(x)\n",
    "\n",
    "sns.barplot(x['movie_title'], x['Social_Media_Popularity'], palette = 'magma')\n",
    "plt.title('Top 10 Most Popular Movies on Social Media', fontsize = 20)\n",
    "plt.xticks(rotation = 90, fontsize = 14)\n",
    "plt.xlabel(' ')\n",
    "plt.show()"
   ]
  },
  {
   "cell_type": "code",
   "execution_count": null,
   "metadata": {
    "scrolled": false
   },
   "outputs": [],
   "source": [
    "print(\"Average IMDB Score for Long Duration Movies is {0:.2f}\".format(data[data['duration'] == 'Long']['imdb_score'].mean()))\n",
    "print(\"Average IMDB Score for Short Duration Movies is {0:.2f}\".format(data[data['duration'] == 'Short']['imdb_score'].mean()))\n",
    "\n",
    "print(\"\\nHighest Rated Long Duration Movie\\n\", \n",
    "    data[data['duration'] == 'Long'][['movie_title','imdb_score']].sort_values(by = 'imdb_score', ascending = False).head(1))\n",
    "print(\"\\nHighest Rated Short Duration Movie\\n\", \n",
    "    data[data['duration'] == 'Short'][['movie_title','imdb_score']].sort_values(by = 'imdb_score', ascending = False).head(1))\n",
    "\n",
    "sns.boxplot(data['imdb_score'], data['duration'], palette = 'copper')\n",
    "plt.title('IMDB Ratings vs Gross', fontsize = 20)\n",
    "plt.xticks(rotation = 90)\n",
    "plt.show()"
   ]
  },
  {
   "cell_type": "code",
   "execution_count": null,
   "metadata": {},
   "outputs": [],
   "source": [
    "def query_actors(x):\n",
    "    a = data[data['actor_1_name'] == x]\n",
    "    b = data[data['actor_2_name'] == x]\n",
    "    c = data[data['actor_3_name'] == x]\n",
    "    x = a.append(b)\n",
    "    y = x.append(c)\n",
    "    \n",
    "    y = y[['movie_title',\n",
    "       'budget',\n",
    "       'gross',\n",
    "       'title_year',\n",
    "       'genres',\n",
    "       'language',\n",
    "       'imdb_score',\n",
    "        ]]\n",
    "    return y"
   ]
  },
  {
   "cell_type": "code",
   "execution_count": null,
   "metadata": {},
   "outputs": [],
   "source": [
    "query_actors('Charlize Theron')"
   ]
  },
  {
   "cell_type": "code",
   "execution_count": 30,
   "metadata": {},
   "outputs": [
    {
     "name": "stdout",
     "output_type": "stream",
     "text": [
      "Time: 1985.0 2014.0\n",
      "Max Gross : 143.70 Millions\n",
      "Avg Gross : 55.23 Millions\n",
      "Min Gross : 9.66 Millions\n",
      "Number of 100 Million Movies : 4\n",
      "Avg IMDB Score : 6.81\n",
      "Most Common Genres:\n",
      " Drama        9\n",
      "Comedy       7\n",
      "Biography    3\n",
      "Adventure    3\n",
      "Action       1\n",
      "Name: Genre1, dtype: int64\n"
     ]
    }
   ],
   "source": [
    "def actors_report(x):\n",
    "    a = data[data['actor_1_name'] == x]\n",
    "    b = data[data['actor_2_name'] == x]\n",
    "    c = data[data['actor_3_name'] == x]\n",
    "    x = a.append(b)\n",
    "    y = x.append(c)\n",
    "    print(\"Time:\",y['title_year'].min(), y['title_year'].max())\n",
    "    print(\"Max Gross : {0:.2f} Millions\".format(y['gross'].max()))\n",
    "    print(\"Avg Gross : {0:.2f} Millions\".format(y['gross'].mean()))\n",
    "    print(\"Min Gross : {0:.2f} Millions\".format(y['gross'].min()))\n",
    "    print(\"Number of 100 Million Movies :\", y[y['gross'] > 100].shape[0])\n",
    "    print(\"Avg IMDB Score : {0:.2f}\".format(y['imdb_score'].mean()))\n",
    "    print(\"Most Common Genres:\\n\",y['Genre1'].value_counts().head())\n",
    "    \n",
    "actors_report('Meryl Streep')"
   ]
  },
  {
   "cell_type": "code",
   "execution_count": 29,
   "metadata": {},
   "outputs": [
    {
     "name": "stdout",
     "output_type": "stream",
     "text": [
      "Number of Critics Reviews for Brad Pitt\n"
     ]
    },
    {
     "data": {
      "text/plain": [
       "7814"
      ]
     },
     "metadata": {},
     "output_type": "display_data"
    },
    {
     "name": "stdout",
     "output_type": "stream",
     "text": [
      "Number of Critics Reviews for Leonardo DiCaprio\n"
     ]
    },
    {
     "data": {
      "text/plain": [
       "7014"
      ]
     },
     "metadata": {},
     "output_type": "display_data"
    },
    {
     "name": "stdout",
     "output_type": "stream",
     "text": [
      "Number of Critics Reviews for Tom Cruise\n"
     ]
    },
    {
     "data": {
      "text/plain": [
       "6740"
      ]
     },
     "metadata": {},
     "output_type": "display_data"
    }
   ],
   "source": [
    "#compare Brad Pitt, Leonardo Caprio and Tom Cruise\n",
    "\n",
    "def critically_acclaimed_actors(m):\n",
    "    a = data[data['actor_1_name'] == m]\n",
    "    b = data[data['actor_2_name'] == m]\n",
    "    c = data[data['actor_3_name'] == m]\n",
    "    x = a.append(b)\n",
    "    y = x.append(c)\n",
    "    return y['num_critic_for_reviews'].sum().astype('int')\n",
    "\n",
    "\n",
    "print(\"Number of Critics Reviews for Brad Pitt\")\n",
    "display(critically_acclaimed_actors('Brad Pitt'))\n",
    "\n",
    "print(\"Number of Critics Reviews for Leonardo DiCaprio\")\n",
    "display(critically_acclaimed_actors('Leonardo DiCaprio'))\n",
    "\n",
    "print(\"Number of Critics Reviews for Tom Cruise\")\n",
    "display(critically_acclaimed_actors('Tom Cruise'))"
   ]
  },
  {
   "cell_type": "code",
   "execution_count": 27,
   "metadata": {
    "scrolled": true
   },
   "outputs": [
    {
     "data": {
      "application/vnd.jupyter.widget-view+json": {
       "model_id": "d6d580ddd50e45879bd9f0bca0fe4654",
       "version_major": 2,
       "version_minor": 0
      },
      "text/plain": [
       "interactive(children=(Text(value='imdb_score', description='column'), FloatSlider(value=9.0, description='scor…"
      ]
     },
     "metadata": {},
     "output_type": "display_data"
    }
   ],
   "source": [
    "pd.set_option('max_rows', 3000)\n",
    "\n",
    "@interact\n",
    "def show_movies_more_than(column='imdb_score', score=9.0):\n",
    "    x = data.loc[data[column] > score][[ 'title_year','movie_title',\n",
    "                                       'director_name',\n",
    "                                       'actor_1_name',\n",
    "                                       'actor_2_name',\n",
    "                                       'actor_3_name',\n",
    "                                       'Profit',\n",
    "                                       'imdb_score',\n",
    "                                    ]]\n",
    "    x = x.sort_values(by = 'imdb_score', ascending = False)\n",
    "    x = x.drop_duplicates(keep = 'first')\n",
    "    return x"
   ]
  },
  {
   "cell_type": "code",
   "execution_count": 28,
   "metadata": {
    "scrolled": false
   },
   "outputs": [
    {
     "data": {
      "application/vnd.jupyter.widget-view+json": {
       "model_id": "7c82f4b2c4c44fff904b5606365f474b",
       "version_major": 2,
       "version_minor": 0
      },
      "text/plain": [
       "interactive(children=(Dropdown(description='column', options=('budget', 'gross'), value='budget'), IntSlider(v…"
      ]
     },
     "metadata": {},
     "output_type": "display_data"
    }
   ],
   "source": [
    "pd.set_option('max_rows', 30000)\n",
    "\n",
    "@interact\n",
    "def show_articles_more_than(column=['budget','gross'], x=1000):\n",
    "    return data.loc[data[column] > x][['movie_title','duration','gross','Profit','imdb_score']]"
   ]
  },
  {
   "cell_type": "markdown",
   "metadata": {},
   "source": [
    "## Recommending Movies based on Languages"
   ]
  },
  {
   "cell_type": "code",
   "execution_count": 25,
   "metadata": {
    "scrolled": true
   },
   "outputs": [],
   "source": [
    "def recommend_lang(x):\n",
    "    y = data[['language','movie_title','imdb_score']][data['language'] == x]\n",
    "    y = y.sort_values(by = 'imdb_score', ascending = False)\n",
    "    return y.head(15)\n"
   ]
  },
  {
   "cell_type": "code",
   "execution_count": 26,
   "metadata": {
    "scrolled": false
   },
   "outputs": [
    {
     "data": {
      "text/html": [
       "<div>\n",
       "<style scoped>\n",
       "    .dataframe tbody tr th:only-of-type {\n",
       "        vertical-align: middle;\n",
       "    }\n",
       "\n",
       "    .dataframe tbody tr th {\n",
       "        vertical-align: top;\n",
       "    }\n",
       "\n",
       "    .dataframe thead th {\n",
       "        text-align: right;\n",
       "    }\n",
       "</style>\n",
       "<table border=\"1\" class=\"dataframe\">\n",
       "  <thead>\n",
       "    <tr style=\"text-align: right;\">\n",
       "      <th></th>\n",
       "      <th>language</th>\n",
       "      <th>movie_title</th>\n",
       "      <th>imdb_score</th>\n",
       "    </tr>\n",
       "  </thead>\n",
       "  <tbody>\n",
       "    <tr>\n",
       "      <th>1937</th>\n",
       "      <td>English</td>\n",
       "      <td>The Shawshank Redemption</td>\n",
       "      <td>9.3</td>\n",
       "    </tr>\n",
       "    <tr>\n",
       "      <th>3466</th>\n",
       "      <td>English</td>\n",
       "      <td>The Godfather</td>\n",
       "      <td>9.2</td>\n",
       "    </tr>\n",
       "    <tr>\n",
       "      <th>2837</th>\n",
       "      <td>English</td>\n",
       "      <td>The Godfather: Part II</td>\n",
       "      <td>9.0</td>\n",
       "    </tr>\n",
       "    <tr>\n",
       "      <th>66</th>\n",
       "      <td>English</td>\n",
       "      <td>The Dark Knight</td>\n",
       "      <td>9.0</td>\n",
       "    </tr>\n",
       "    <tr>\n",
       "      <th>3355</th>\n",
       "      <td>English</td>\n",
       "      <td>Pulp Fiction</td>\n",
       "      <td>8.9</td>\n",
       "    </tr>\n",
       "    <tr>\n",
       "      <th>1874</th>\n",
       "      <td>English</td>\n",
       "      <td>Schindler's List</td>\n",
       "      <td>8.9</td>\n",
       "    </tr>\n",
       "    <tr>\n",
       "      <th>339</th>\n",
       "      <td>English</td>\n",
       "      <td>The Lord of the Rings: The Return of the King</td>\n",
       "      <td>8.9</td>\n",
       "    </tr>\n",
       "    <tr>\n",
       "      <th>683</th>\n",
       "      <td>English</td>\n",
       "      <td>Fight Club</td>\n",
       "      <td>8.8</td>\n",
       "    </tr>\n",
       "    <tr>\n",
       "      <th>270</th>\n",
       "      <td>English</td>\n",
       "      <td>The Lord of the Rings: The Fellowship of the R...</td>\n",
       "      <td>8.8</td>\n",
       "    </tr>\n",
       "    <tr>\n",
       "      <th>2051</th>\n",
       "      <td>English</td>\n",
       "      <td>Star Wars: Episode V - The Empire Strikes Back</td>\n",
       "      <td>8.8</td>\n",
       "    </tr>\n",
       "    <tr>\n",
       "      <th>97</th>\n",
       "      <td>English</td>\n",
       "      <td>Inception</td>\n",
       "      <td>8.8</td>\n",
       "    </tr>\n",
       "    <tr>\n",
       "      <th>836</th>\n",
       "      <td>English</td>\n",
       "      <td>Forrest Gump</td>\n",
       "      <td>8.8</td>\n",
       "    </tr>\n",
       "    <tr>\n",
       "      <th>3867</th>\n",
       "      <td>English</td>\n",
       "      <td>One Flew Over the Cuckoo's Nest</td>\n",
       "      <td>8.7</td>\n",
       "    </tr>\n",
       "    <tr>\n",
       "      <th>340</th>\n",
       "      <td>English</td>\n",
       "      <td>The Lord of the Rings: The Two Towers</td>\n",
       "      <td>8.7</td>\n",
       "    </tr>\n",
       "    <tr>\n",
       "      <th>3024</th>\n",
       "      <td>English</td>\n",
       "      <td>Star Wars: Episode IV - A New Hope</td>\n",
       "      <td>8.7</td>\n",
       "    </tr>\n",
       "  </tbody>\n",
       "</table>\n",
       "</div>"
      ],
      "text/plain": [
       "     language                                        movie_title  imdb_score\n",
       "1937  English                          The Shawshank Redemption          9.3\n",
       "3466  English                                     The Godfather          9.2\n",
       "2837  English                            The Godfather: Part II          9.0\n",
       "66    English                                   The Dark Knight          9.0\n",
       "3355  English                                      Pulp Fiction          8.9\n",
       "1874  English                                  Schindler's List          8.9\n",
       "339   English     The Lord of the Rings: The Return of the King          8.9\n",
       "683   English                                        Fight Club          8.8\n",
       "270   English  The Lord of the Rings: The Fellowship of the R...         8.8\n",
       "2051  English    Star Wars: Episode V - The Empire Strikes Back          8.8\n",
       "97    English                                         Inception          8.8\n",
       "836   English                                      Forrest Gump          8.8\n",
       "3867  English                   One Flew Over the Cuckoo's Nest          8.7\n",
       "340   English             The Lord of the Rings: The Two Towers          8.7\n",
       "3024  English                Star Wars: Episode IV - A New Hope          8.7"
      ]
     },
     "execution_count": 26,
     "metadata": {},
     "output_type": "execute_result"
    }
   ],
   "source": [
    "recommend_lang('English')"
   ]
  },
  {
   "cell_type": "markdown",
   "metadata": {},
   "source": [
    "## Recommending Movies Based on Actors"
   ]
  },
  {
   "cell_type": "code",
   "execution_count": 23,
   "metadata": {
    "scrolled": false
   },
   "outputs": [],
   "source": [
    "\n",
    "def recommend_movies_on_actors(x):\n",
    "    a = data[['movie_title','imdb_score']][data['actor_1_name'] == x]\n",
    "    b = data[['movie_title','imdb_score']][data['actor_2_name'] == x]\n",
    "    c = data[['movie_title','imdb_score']][data['actor_3_name'] == x]\n",
    "    a = a.append(b)\n",
    "    a = a.append(c)\n",
    "    a = a.sort_values(by = 'imdb_score', ascending = False)\n",
    "    return a.head(15)"
   ]
  },
  {
   "cell_type": "code",
   "execution_count": 24,
   "metadata": {
    "scrolled": false
   },
   "outputs": [
    {
     "data": {
      "text/html": [
       "<div>\n",
       "<style scoped>\n",
       "    .dataframe tbody tr th:only-of-type {\n",
       "        vertical-align: middle;\n",
       "    }\n",
       "\n",
       "    .dataframe tbody tr th {\n",
       "        vertical-align: top;\n",
       "    }\n",
       "\n",
       "    .dataframe thead th {\n",
       "        text-align: right;\n",
       "    }\n",
       "</style>\n",
       "<table border=\"1\" class=\"dataframe\">\n",
       "  <thead>\n",
       "    <tr style=\"text-align: right;\">\n",
       "      <th></th>\n",
       "      <th>movie_title</th>\n",
       "      <th>imdb_score</th>\n",
       "    </tr>\n",
       "  </thead>\n",
       "  <tbody>\n",
       "    <tr>\n",
       "      <th>1868</th>\n",
       "      <td>Rain Man</td>\n",
       "      <td>8.0</td>\n",
       "    </tr>\n",
       "    <tr>\n",
       "      <th>75</th>\n",
       "      <td>Edge of Tomorrow</td>\n",
       "      <td>7.9</td>\n",
       "    </tr>\n",
       "    <tr>\n",
       "      <th>284</th>\n",
       "      <td>Minority Report</td>\n",
       "      <td>7.7</td>\n",
       "    </tr>\n",
       "    <tr>\n",
       "      <th>158</th>\n",
       "      <td>The Last Samurai</td>\n",
       "      <td>7.7</td>\n",
       "    </tr>\n",
       "    <tr>\n",
       "      <th>736</th>\n",
       "      <td>Collateral</td>\n",
       "      <td>7.6</td>\n",
       "    </tr>\n",
       "    <tr>\n",
       "      <th>1524</th>\n",
       "      <td>A Few Good Men</td>\n",
       "      <td>7.6</td>\n",
       "    </tr>\n",
       "    <tr>\n",
       "      <th>940</th>\n",
       "      <td>Interview with the Vampire: The Vampire Chroni...</td>\n",
       "      <td>7.6</td>\n",
       "    </tr>\n",
       "    <tr>\n",
       "      <th>155</th>\n",
       "      <td>Mission: Impossible - Ghost Protocol</td>\n",
       "      <td>7.4</td>\n",
       "    </tr>\n",
       "    <tr>\n",
       "      <th>135</th>\n",
       "      <td>Mission: Impossible - Rogue Nation</td>\n",
       "      <td>7.4</td>\n",
       "    </tr>\n",
       "    <tr>\n",
       "      <th>671</th>\n",
       "      <td>Eyes Wide Shut</td>\n",
       "      <td>7.3</td>\n",
       "    </tr>\n",
       "    <tr>\n",
       "      <th>930</th>\n",
       "      <td>Jerry Maguire</td>\n",
       "      <td>7.3</td>\n",
       "    </tr>\n",
       "    <tr>\n",
       "      <th>3128</th>\n",
       "      <td>The Outsiders</td>\n",
       "      <td>7.2</td>\n",
       "    </tr>\n",
       "    <tr>\n",
       "      <th>2768</th>\n",
       "      <td>Born on the Fourth of July</td>\n",
       "      <td>7.2</td>\n",
       "    </tr>\n",
       "    <tr>\n",
       "      <th>370</th>\n",
       "      <td>Valkyrie</td>\n",
       "      <td>7.1</td>\n",
       "    </tr>\n",
       "    <tr>\n",
       "      <th>438</th>\n",
       "      <td>Mission: Impossible</td>\n",
       "      <td>7.1</td>\n",
       "    </tr>\n",
       "  </tbody>\n",
       "</table>\n",
       "</div>"
      ],
      "text/plain": [
       "                                            movie_title  imdb_score\n",
       "1868                                          Rain Man          8.0\n",
       "75                                    Edge of Tomorrow          7.9\n",
       "284                                    Minority Report          7.7\n",
       "158                                   The Last Samurai          7.7\n",
       "736                                         Collateral          7.6\n",
       "1524                                    A Few Good Men          7.6\n",
       "940   Interview with the Vampire: The Vampire Chroni...         7.6\n",
       "155               Mission: Impossible - Ghost Protocol          7.4\n",
       "135                 Mission: Impossible - Rogue Nation          7.4\n",
       "671                                     Eyes Wide Shut          7.3\n",
       "930                                      Jerry Maguire          7.3\n",
       "3128                                     The Outsiders          7.2\n",
       "2768                        Born on the Fourth of July          7.2\n",
       "370                                           Valkyrie          7.1\n",
       "438                                Mission: Impossible          7.1"
      ]
     },
     "execution_count": 24,
     "metadata": {},
     "output_type": "execute_result"
    }
   ],
   "source": [
    "recommend_movies_on_actors('Tom Cruise')"
   ]
  },
  {
   "cell_type": "code",
   "execution_count": null,
   "metadata": {},
   "outputs": [],
   "source": []
  }
 ],
 "metadata": {
  "kernelspec": {
   "display_name": "Python 3",
   "language": "python",
   "name": "python3"
  },
  "language_info": {
   "codemirror_mode": {
    "name": "ipython",
    "version": 3
   },
   "file_extension": ".py",
   "mimetype": "text/x-python",
   "name": "python",
   "nbconvert_exporter": "python",
   "pygments_lexer": "ipython3",
   "version": "3.9.5"
  }
 },
 "nbformat": 4,
 "nbformat_minor": 4
}
